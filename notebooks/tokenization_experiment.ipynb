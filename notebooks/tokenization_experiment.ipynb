{
 "cells": [
  {
   "cell_type": "code",
   "execution_count": 70,
   "metadata": {},
   "outputs": [],
   "source": [
    "from PIL import Image\n",
    "import pandas as pd\n",
    "from statistics import mean, stdev"
   ]
  },
  {
   "cell_type": "code",
   "execution_count": 3,
   "metadata": {},
   "outputs": [],
   "source": [
    "im_path = \"../data/sprite/101_default_front_default.png\"\n",
    "shiny_path = \"../data/sprite/101_default_front_shiny.png\"\n",
    "\n",
    "im = Image.open(im_path)\n",
    "shiny_im = Image.open(shiny_path)\n",
    "im.show()"
   ]
  },
  {
   "cell_type": "code",
   "execution_count": 27,
   "metadata": {},
   "outputs": [
    {
     "name": "stdout",
     "output_type": "stream",
     "text": [
      "{(217, 225, 244), (15, 15, 15), (100, 108, 132), (86, 66, 35), (186, 196, 216), (197, 156, 63), (143, 149, 183), (55, 57, 64), (255, 255, 255), (152, 120, 46), (221, 193, 38)}\n"
     ]
    }
   ],
   "source": [
    "def get_pixel_set(im:Image) -> set[tuple[int, int, int]]:\n",
    "    x, y = im.size\n",
    "    return { im.getpixel((i,j)) for i in range(x) for j in range(y) }\n",
    "\n",
    "pix_set = get_pixel_set(im)\n",
    "print(pix_set)"
   ]
  },
  {
   "cell_type": "code",
   "execution_count": 28,
   "metadata": {},
   "outputs": [
    {
     "data": {
      "text/plain": [
       "[(15, 15, 15),\n",
       " (55, 57, 64),\n",
       " (86, 66, 35),\n",
       " (100, 108, 132),\n",
       " (143, 149, 183),\n",
       " (152, 120, 46),\n",
       " (186, 196, 216),\n",
       " (197, 156, 63),\n",
       " (217, 225, 244),\n",
       " (221, 193, 38),\n",
       " (255, 255, 255)]"
      ]
     },
     "execution_count": 28,
     "metadata": {},
     "output_type": "execute_result"
    }
   ],
   "source": [
    "sorted(pix_set)"
   ]
  },
  {
   "cell_type": "code",
   "execution_count": 23,
   "metadata": {},
   "outputs": [
    {
     "data": {
      "text/html": [
       "<div>\n",
       "<style scoped>\n",
       "    .dataframe tbody tr th:only-of-type {\n",
       "        vertical-align: middle;\n",
       "    }\n",
       "\n",
       "    .dataframe tbody tr th {\n",
       "        vertical-align: top;\n",
       "    }\n",
       "\n",
       "    .dataframe thead th {\n",
       "        text-align: right;\n",
       "    }\n",
       "</style>\n",
       "<table border=\"1\" class=\"dataframe\">\n",
       "  <thead>\n",
       "    <tr style=\"text-align: right;\">\n",
       "      <th></th>\n",
       "      <th>image</th>\n",
       "      <th>mask</th>\n",
       "      <th>id</th>\n",
       "      <th>type_1</th>\n",
       "      <th>type_2</th>\n",
       "      <th>is_legendary</th>\n",
       "      <th>is_mythical</th>\n",
       "      <th>generation</th>\n",
       "      <th>egg_group_0</th>\n",
       "      <th>egg_group_1</th>\n",
       "    </tr>\n",
       "  </thead>\n",
       "  <tbody>\n",
       "    <tr>\n",
       "      <th>0</th>\n",
       "      <td>sprite/1_default_front_default.png</td>\n",
       "      <td>masks/1_default_front_default_mask.png</td>\n",
       "      <td>1</td>\n",
       "      <td>grass</td>\n",
       "      <td>poison</td>\n",
       "      <td>False</td>\n",
       "      <td>False</td>\n",
       "      <td>generation-i</td>\n",
       "      <td>monster</td>\n",
       "      <td>plant</td>\n",
       "    </tr>\n",
       "    <tr>\n",
       "      <th>1</th>\n",
       "      <td>sprite/1_default_front_shiny.png</td>\n",
       "      <td>masks/1_default_front_default_mask.png</td>\n",
       "      <td>1</td>\n",
       "      <td>grass</td>\n",
       "      <td>poison</td>\n",
       "      <td>False</td>\n",
       "      <td>False</td>\n",
       "      <td>generation-i</td>\n",
       "      <td>monster</td>\n",
       "      <td>plant</td>\n",
       "    </tr>\n",
       "    <tr>\n",
       "      <th>2</th>\n",
       "      <td>sprite/1_generation-iii_emerald_front_default.png</td>\n",
       "      <td>masks/1_generation-iii_emerald_front_default_m...</td>\n",
       "      <td>1</td>\n",
       "      <td>grass</td>\n",
       "      <td>poison</td>\n",
       "      <td>False</td>\n",
       "      <td>False</td>\n",
       "      <td>generation-i</td>\n",
       "      <td>monster</td>\n",
       "      <td>plant</td>\n",
       "    </tr>\n",
       "    <tr>\n",
       "      <th>3</th>\n",
       "      <td>sprite/1_generation-iii_emerald_front_shiny.png</td>\n",
       "      <td>masks/1_generation-iii_emerald_front_default_m...</td>\n",
       "      <td>1</td>\n",
       "      <td>grass</td>\n",
       "      <td>poison</td>\n",
       "      <td>False</td>\n",
       "      <td>False</td>\n",
       "      <td>generation-i</td>\n",
       "      <td>monster</td>\n",
       "      <td>plant</td>\n",
       "    </tr>\n",
       "    <tr>\n",
       "      <th>4</th>\n",
       "      <td>sprite/1_generation-iii_firered-leafgreen_fron...</td>\n",
       "      <td>masks/1_generation-iii_firered-leafgreen_front...</td>\n",
       "      <td>1</td>\n",
       "      <td>grass</td>\n",
       "      <td>poison</td>\n",
       "      <td>False</td>\n",
       "      <td>False</td>\n",
       "      <td>generation-i</td>\n",
       "      <td>monster</td>\n",
       "      <td>plant</td>\n",
       "    </tr>\n",
       "  </tbody>\n",
       "</table>\n",
       "</div>"
      ],
      "text/plain": [
       "                                               image  \\\n",
       "0                 sprite/1_default_front_default.png   \n",
       "1                   sprite/1_default_front_shiny.png   \n",
       "2  sprite/1_generation-iii_emerald_front_default.png   \n",
       "3    sprite/1_generation-iii_emerald_front_shiny.png   \n",
       "4  sprite/1_generation-iii_firered-leafgreen_fron...   \n",
       "\n",
       "                                                mask  id type_1  type_2  \\\n",
       "0             masks/1_default_front_default_mask.png   1  grass  poison   \n",
       "1             masks/1_default_front_default_mask.png   1  grass  poison   \n",
       "2  masks/1_generation-iii_emerald_front_default_m...   1  grass  poison   \n",
       "3  masks/1_generation-iii_emerald_front_default_m...   1  grass  poison   \n",
       "4  masks/1_generation-iii_firered-leafgreen_front...   1  grass  poison   \n",
       "\n",
       "   is_legendary  is_mythical    generation egg_group_0 egg_group_1  \n",
       "0         False        False  generation-i     monster       plant  \n",
       "1         False        False  generation-i     monster       plant  \n",
       "2         False        False  generation-i     monster       plant  \n",
       "3         False        False  generation-i     monster       plant  \n",
       "4         False        False  generation-i     monster       plant  "
      ]
     },
     "execution_count": 23,
     "metadata": {},
     "output_type": "execute_result"
    }
   ],
   "source": [
    "csv_path = \"../data/data.csv\"\n",
    "df = pd.read_csv(csv_path)\n",
    "df.head()"
   ]
  },
  {
   "cell_type": "code",
   "execution_count": 26,
   "metadata": {},
   "outputs": [
    {
     "name": "stdout",
     "output_type": "stream",
     "text": [
      "size 17: sprite/245_generation-iii_emerald_front_default.png\n",
      "size 20: sprite/666_default_front_default.png\n",
      "size 17: sprite/680_default_front_default.png\n",
      "size 17: sprite/680_default_front_shiny.png\n",
      "size 27: sprite/716_default_front_default.png\n",
      "size 19: sprite/906_default_front_default.png\n",
      "size 19: sprite/909_default_front_default.png\n",
      "size 17: sprite/911_default_front_default.png\n",
      "size 17: sprite/944_default_front_default.png\n",
      "size 19: sprite/952_default_front_default.png\n",
      "size 17: sprite/964_default_front_default.png\n",
      "size 17: sprite/988_default_front_default.png\n",
      "size 19: sprite/989_default_front_default.png\n",
      "size 17: sprite/993_default_front_default.png\n",
      "size 19: sprite/1001_default_front_default.png\n",
      "size 18: sprite/1003_default_front_default.png\n",
      "size 19: sprite/10027_default_front_default.png\n",
      "size 19: sprite/10028_default_front_default.png\n",
      "size 19: sprite/10029_default_front_default.png\n",
      "size 17: sprite/10030_default_front_default.png\n",
      "size 17: sprite/10031_default_front_default.png\n",
      "size 17: sprite/10032_default_front_default.png\n",
      "size 20: sprite/10033_default_front_female.png\n",
      "size 18: sprite/10068_default_front_default.png\n",
      "size 17: sprite/10077_default_front_shiny.png\n",
      "size 17: sprite/10163_default_front_default.png\n",
      "size 17: sprite/10163_default_front_shiny.png\n"
     ]
    }
   ],
   "source": [
    "pixel_set_lengths = []\n",
    "\n",
    "for path in df[\"image\"]:\n",
    "    im = Image.open(\"../data/\"+path)\n",
    "    pix_set = get_pixel_set(im)\n",
    "\n",
    "    if len(pix_set) > 16:\n",
    "        print(f\"size {len(pix_set)}: {path}\")\n",
    "\n",
    "    pixel_set_lengths.append(len(pix_set))\n"
   ]
  },
  {
   "cell_type": "code",
   "execution_count": 64,
   "metadata": {},
   "outputs": [
    {
     "data": {
      "text/plain": [
       "{0: 106,\n",
       " 1: 95,\n",
       " 2: 12,\n",
       " 3: 46,\n",
       " 4: 95,\n",
       " 5: 49,\n",
       " 6: 193,\n",
       " 7: 35,\n",
       " 8: 17,\n",
       " 9: 28,\n",
       " 10: 8540}"
      ]
     },
     "execution_count": 64,
     "metadata": {},
     "output_type": "execute_result"
    }
   ],
   "source": [
    "def tokenize_image(im:Image) -> list[int]:\n",
    "    pix_set = get_pixel_set(im)\n",
    "\n",
    "    pix_to_token = {pix: token for token, pix in enumerate(sorted(pix_set))}\n",
    "\n",
    "    return [pix_to_token[im.getpixel((i,j))] for i in range(96) for j in range(96)]\n",
    "\n",
    "tokenized = tokenize_image(im=im)\n",
    "tokens = set(tokenized)\n",
    "counts = { i: tokenized.count(i) for i in set(tokenized) }\n",
    "counts\n"
   ]
  },
  {
   "cell_type": "code",
   "execution_count": 34,
   "metadata": {},
   "outputs": [
    {
     "data": {
      "text/plain": [
       "{0: 2, 1: 1, 2: 0, 3: 0, 4: 0, 5: 0, 6: 0, 7: 0, 8: 0, 9: 1, 10: 2996}"
      ]
     },
     "execution_count": 34,
     "metadata": {},
     "output_type": "execute_result"
    }
   ],
   "source": [
    "{ i: tokenized[:3000].count(i) for i in set(tokenized) }"
   ]
  },
  {
   "cell_type": "code",
   "execution_count": 50,
   "metadata": {},
   "outputs": [
    {
     "name": "stdout",
     "output_type": "stream",
     "text": [
      "len(sequence): 9216, len(whitespace_removed): 3281\n",
      "Leading whitespace: 2913 Trailing whitespace: 3022\n"
     ]
    },
    {
     "data": {
      "text/plain": [
       "{0: 101,\n",
       " 1: 95,\n",
       " 2: 12,\n",
       " 3: 46,\n",
       " 4: 95,\n",
       " 5: 49,\n",
       " 6: 193,\n",
       " 7: 35,\n",
       " 8: 17,\n",
       " 9: 28,\n",
       " 10: 2610}"
      ]
     },
     "execution_count": 50,
     "metadata": {},
     "output_type": "execute_result"
    }
   ],
   "source": [
    "# understand how many white spaces there are at the start of a pokemon\n",
    "token_string = \" \".join( map(lambda i: str(i), tokenized) )\n",
    "\n",
    "to_int = lambda s: int(s)\n",
    "ws_removed = list(map(to_int, token_string.strip(\"10 \").split(\" \")))\n",
    "leading_removed = list(map(to_int, token_string.lstrip(\"10 \").split(\" \")))\n",
    "trailing_removed = list(map(to_int, token_string.rstrip(\"10 \").split(\" \")))\n",
    "print(f\"len(sequence): {len(tokenized)}, len(whitespace_removed): {len(ws_removed)}\")\n",
    "print(f\"Leading whitespace: {len(tokenized) - len(leading_removed)} Trailing whitespace: {len(tokenized) - len(trailing_removed)}\")\n",
    "\n",
    "{ i: ws_removed.count(i) for i in set(tokenized) }\n"
   ]
  },
  {
   "cell_type": "code",
   "execution_count": 65,
   "metadata": {},
   "outputs": [],
   "source": [
    "# investigate size of runs\n",
    "\n",
    "def group_token_runs(tokens:list[int]) -> list[list[int]]:\n",
    "    curr_token:int = tokens[0]\n",
    "    curr_run:list[int] = []\n",
    "    result:list[list[int]] = []\n",
    "    for token in tokens:\n",
    "        if token == curr_token:\n",
    "            curr_run.append(token)\n",
    "        else:\n",
    "            result.append(curr_run)\n",
    "            curr_run = [token]\n",
    "            curr_token = token\n",
    "\n",
    "    return result\n",
    "\n",
    "runs = group_token_runs(ws_removed)\n",
    "run_lengths = list(map(lambda l: len(l), runs))\n",
    "\n",
    "lengths_by_token = {token: [len(run) for run in runs if token in run] for token in tokens}\n",
    "\n"
   ]
  },
  {
   "cell_type": "code",
   "execution_count": 71,
   "metadata": {},
   "outputs": [
    {
     "data": {
      "text/plain": [
       "{0: {'mu': 1.364864864864865, 'sigma': 0.7688155687475454},\n",
       " 1: {'mu': 1.6101694915254237, 'sigma': 1.2036861366672416},\n",
       " 2: {'mu': 1.3333333333333333, 'sigma': 0.816496580927726},\n",
       " 3: {'mu': 1.0222222222222221, 'sigma': 0.14907119849998599},\n",
       " 4: {'mu': 1.8269230769230769, 'sigma': 1.3963699976859305},\n",
       " 5: {'mu': 1.5806451612903225, 'sigma': 1.02548179078217},\n",
       " 6: {'mu': 3.1639344262295084, 'sigma': 2.067045620113019},\n",
       " 7: {'mu': 1.4, 'sigma': 0.6454972243679028},\n",
       " 8: {'mu': 2.8333333333333335, 'sigma': 1.1690451944500122},\n",
       " 9: {'mu': 1.75, 'sigma': 1.0645812948447542},\n",
       " 10: {'mu': 45, 'sigma': 34.83646002923404}}"
      ]
     },
     "execution_count": 71,
     "metadata": {},
     "output_type": "execute_result"
    }
   ],
   "source": [
    "avg_lengths_by_token = {k: {\"mu\": mean(v), \"sigma\": stdev(v)} for k,v in lengths_by_token.items()}\n",
    "avg_lengths_by_token"
   ]
  },
  {
   "cell_type": "code",
   "execution_count": null,
   "metadata": {},
   "outputs": [],
   "source": [
    "# looking into these values for all images\n",
    "tokens_to_string = lambda l: \" \".join(map(lambda i: str(i), l))\n"
   ]
  }
 ],
 "metadata": {
  "kernelspec": {
   "display_name": "Python 3",
   "language": "python",
   "name": "python3"
  },
  "language_info": {
   "codemirror_mode": {
    "name": "ipython",
    "version": 3
   },
   "file_extension": ".py",
   "mimetype": "text/x-python",
   "name": "python",
   "nbconvert_exporter": "python",
   "pygments_lexer": "ipython3",
   "version": "3.10.11"
  },
  "orig_nbformat": 4
 },
 "nbformat": 4,
 "nbformat_minor": 2
}
