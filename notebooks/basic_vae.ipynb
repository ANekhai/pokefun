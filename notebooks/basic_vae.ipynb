{
 "cells": [
  {
   "cell_type": "code",
   "execution_count": 3,
   "metadata": {},
   "outputs": [
    {
     "name": "stdout",
     "output_type": "stream",
     "text": [
      "Random Seed:  999\n"
     ]
    },
    {
     "data": {
      "text/plain": [
       "<torch._C.Generator at 0x24db37fdd10>"
      ]
     },
     "execution_count": 3,
     "metadata": {},
     "output_type": "execute_result"
    }
   ],
   "source": [
    "import torch\n",
    "from torch import nn\n",
    "\n",
    "import os\n",
    "import sys\n",
    "import random\n",
    "import pandas as pd\n",
    "import numpy as np\n",
    "\n",
    "manualSeed = 999\n",
    "#manualSeed = random.randint(1, 10000) # use if you want new results\n",
    "print(\"Random Seed: \", manualSeed)\n",
    "random.seed(manualSeed)\n",
    "torch.manual_seed(manualSeed)"
   ]
  },
  {
   "cell_type": "code",
   "execution_count": 4,
   "metadata": {},
   "outputs": [],
   "source": [
    "### Hyperparameters\n",
    "\n",
    "dataroot = \"../data\"\n",
    "workers = 2\n",
    "batch_size = 128\n",
    "\n",
    "image_size = 96\n",
    "\n",
    "# Number of color cahnnels in image\n",
    "nc = 3\n",
    "\n",
    "# Size of latent vector (encoder will output mus and sigmas of this size)\n",
    "nz = 16\n",
    "\n",
    "# Size of feature maps in encoder\n",
    "nef = 8     # 64 in GAN\n",
    "\n",
    "# Size of feature maps in decoder\n",
    "ndf = 8     # 64 in GAN\n",
    "\n",
    "# hidden dim\n",
    "hid_dim = 128\n",
    "\n",
    "## training parameters\n",
    "\n",
    "num_epochs = 50\n",
    "# learning rate\n",
    "lr = 0.0003\n",
    "beta1 = 0.5\n",
    "\n",
    "ngpu = 1\n"
   ]
  },
  {
   "cell_type": "code",
   "execution_count": null,
   "metadata": {},
   "outputs": [],
   "source": [
    "# Load data"
   ]
  },
  {
   "cell_type": "code",
   "execution_count": null,
   "metadata": {},
   "outputs": [],
   "source": [
    "# initialize weights"
   ]
  },
  {
   "attachments": {},
   "cell_type": "markdown",
   "metadata": {},
   "source": [
    "### Convolutional VAE architecture\n",
    "\n",
    "Encoder --> FC Hidden Dimension --> Mu, Sigma --> FC Hidden Dimension --> Decoder"
   ]
  },
  {
   "cell_type": "code",
   "execution_count": 5,
   "metadata": {},
   "outputs": [],
   "source": [
    "class Encoder(nn.Module):\n",
    "\n",
    "    def __init__(self):\n",
    "        super(Encoder, self).__init__()\n",
    "\n",
    "        self.model = nn.Sequential(\n",
    "            # input: (nc) x 96 x 96\n",
    "            nn.Conv2d(nc, nef, 4, 2, 1, bias=False),\n",
    "            nn.ReLU(inplace=True),\n",
    "            # state size: (nef) x 48 x 48\n",
    "            nn.Conv2d(nef, nef * 2, 4, 2, 1, bias=False),\n",
    "            nn.ReLU(inplace=True),\n",
    "            # state size: (nef * 2) x 24 x 24\n",
    "            nn.Conv2d(nef * 2, nef * 4, 4, 2, 1, bias=False),\n",
    "            nn.ReLU(inplace=True),\n",
    "            # state size: (nef * 4) x 12 x 12\n",
    "            nn.Conv2d(nef * 4, nef * 8, 4, 2, 1, bias=False),\n",
    "            nn.ReLU(inplace=True),\n",
    "            # state size: (nef * 8) x 6 x 6\n",
    "            nn.Conv2d(nef * 8, nef * 16, 6, 1, 0),\n",
    "            nn.ReLU(inplace=True),\n",
    "            # state size: (nef * 16) x 1 x 1\n",
    "            nn.AdaptiveAvgPool2d()\n",
    "\n",
    "        )\n",
    "\n",
    "    def forward(self, input):\n",
    "        return self.model(input)\n"
   ]
  },
  {
   "cell_type": "code",
   "execution_count": null,
   "metadata": {},
   "outputs": [],
   "source": []
  }
 ],
 "metadata": {
  "kernelspec": {
   "display_name": "Python 3",
   "language": "python",
   "name": "python3"
  },
  "language_info": {
   "codemirror_mode": {
    "name": "ipython",
    "version": 3
   },
   "file_extension": ".py",
   "mimetype": "text/x-python",
   "name": "python",
   "nbconvert_exporter": "python",
   "pygments_lexer": "ipython3",
   "version": "3.10.10"
  },
  "orig_nbformat": 4,
  "vscode": {
   "interpreter": {
    "hash": "ca02a2be9f3bf23de0ef5a4c39d37548a0b48a238c1b7add407f6e2a86dcce79"
   }
  }
 },
 "nbformat": 4,
 "nbformat_minor": 2
}
